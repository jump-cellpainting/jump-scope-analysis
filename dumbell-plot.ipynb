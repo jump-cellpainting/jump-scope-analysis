{
 "cells": [
  {
   "cell_type": "code",
   "execution_count": null,
   "metadata": {},
   "outputs": [],
   "source": []
  },
  {
   "cell_type": "code",
   "execution_count": null,
   "metadata": {},
   "outputs": [],
   "source": [
    "def dumbell_plot(df, group, rep_match, save_fig):\n",
    "        n_plots = len(set(df.loc[:, group]))\n",
    "        heights = [len(i) for _, i in df.groupby(group)] # Custom subplot dims based on input data\n",
    "        plot_height = n_plots * 3\n",
    "        fig, ax_ = plt.subplots(n_plots, 1, figsize=[5, plot_height], gridspec_kw={'height_ratios':heights})\n",
    "        for ax, (_, df_group) in zip(ax_.flatten(), df.groupby(group)):\n",
    "                df_len = df_group[df_group[\"sphering\"]==True].shape[0]\n",
    "                ax.set_xlim([0, 85])\n",
    "                ax.set_ylim([-1, df_len]) # Helps with nice y-axis label alignment\n",
    "                ax.hlines(df_group[df_group[\"sphering\"]==True][\"Batch\"], \n",
    "                        xmin=df_group[df_group[\"sphering\"]==False][rep_match].astype(float), \n",
    "                        xmax=df_group[df_group[\"sphering\"]==True][rep_match].astype(float),\n",
    "                        color='grey', alpha=0.4)\n",
    "                ax.scatter(df_group[df_group[\"sphering\"]==False][rep_match].astype(float),\n",
    "                        df_group[df_group[\"sphering\"]==False][\"Batch\"].astype(str),\n",
    "                        color='skyblue', alpha=1,\n",
    "                        label=\"No Sphere\")\n",
    "                ax.scatter(df_group[df_group[\"sphering\"]==True][rep_match].astype(float),\n",
    "                        df_group[df_group[\"sphering\"]==True][\"Batch\"],\n",
    "                        color='green', alpha=0.4,\n",
    "                        label=\"Sphere\")\n",
    "                # Sort=False to maintain order used in ax.hlines\n",
    "                for (_, row), y in zip(df_group.groupby(\"Batch\", sort=False), range(0, df_len+1)):\n",
    "                        difference_value = row.loc[row['sphering']==True][rep_match].iloc[0] - row.loc[row['sphering']==False][rep_match].iloc[0]\n",
    "                        ax.annotate(f\"{difference_value:.1f}%\", (row.loc[row[\"sphering\"]==True][rep_match].iloc[0]+2, y), va=\"center\")\n",
    "                ax.set_title(f\"{list(set(df_group[group]))[0]}\")\n",
    "                ax.set_xlabel(\" \".join(rep_match.split(\"_\")))\n",
    "                # ax.legend(ncol=1, bbox_to_anchor=(1, 1.001), loc=\"lower right\", frameon=False)\n",
    "                ax.legend(ncol=1, frameon=False, prop={'size': 10}, borderpad=0)\n",
    "        fig.set_facecolor(\"white\")\n",
    "        fig.subplots_adjust(hspace=n_plots/100)\n",
    "\n",
    "        if save_fig:\n",
    "                fig.savefig(f\"figures/{rep_match}_dumbell_plot.png\", bbox_inches = 'tight', dpi=300)\n",
    "\n",
    "dumbell_plot(df_matching, \"Assay_Plate_Barcode\", \"Percent_Matching\", save_fig=False)\n",
    "# dumbell_plot(df_matching, \"Assay_Plate_Barcode\", \"Percent_Matching\", save_fig=True)\n",
    "# dumbell_plot(df_replicating, \"Assay_Plate_Barcode\", \"Percent_Replicating\", save_fig=True)"
   ]
  }
 ],
 "metadata": {
  "kernelspec": {
   "display_name": "Python 3.8.13 64-bit",
   "language": "python",
   "name": "python3"
  },
  "language_info": {
   "codemirror_mode": {
    "name": "ipython",
    "version": 3
   },
   "file_extension": ".py",
   "mimetype": "text/x-python",
   "name": "python",
   "nbconvert_exporter": "python",
   "pygments_lexer": "ipython3",
   "version": "3.8.13"
  },
  "orig_nbformat": 4,
  "vscode": {
   "interpreter": {
    "hash": "90bd059e05f79fb9b7cf5d2b1dae6ea26ca779772e058f49dd8fbe1978749df0"
   }
  }
 },
 "nbformat": 4,
 "nbformat_minor": 2
}
