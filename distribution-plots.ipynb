{
 "cells": [
  {
   "cell_type": "code",
   "execution_count": null,
   "metadata": {},
   "outputs": [],
   "source": []
  },
  {
   "cell_type": "code",
   "execution_count": null,
   "metadata": {},
   "outputs": [],
   "source": []
  },
  {
   "cell_type": "code",
   "execution_count": null,
   "metadata": {},
   "outputs": [],
   "source": [
    "# Hide code output plots\n",
    "%%capture \n",
    "\n",
    "# Recreate distribution plots\n",
    "def distribution_plots(df, save_fig=False, outfile=None):\n",
    "\n",
    "    n_experiments = df.shape[0]\n",
    "\n",
    "    fig, ax_ = plt.subplots(n_experiments, 1, figsize=[12, n_experiments*8])\n",
    "    for i, ax in zip(df.index, ax_.flatten()):\n",
    "        ax.hist(df.loc[i,'Null_Replicating'], label='non-replicates', density=True, bins=20, alpha=0.5)\n",
    "        ax.hist(df.loc[i,'Replicating'], label='replicates', density=True, bins=20, alpha=0.5)\n",
    "        ax.axvline(df.loc[i,'Value_95'], label='95% threshold')\n",
    "        ax.legend(fontsize=20)\n",
    "        ax.set_title(\n",
    "            f\"{df.loc[i,'Vendor']}\\n\" +\n",
    "            f\"Batch = {df.loc[i, 'Batch']}\\n\" +\n",
    "            f\"Plate = {df.loc[i, 'Assay_Plate_Barcode']}\\n\" +\n",
    "            f\"Percent Replicating = {df.loc[i,'Percent_Replicating']}\",\n",
    "            fontsize=25\n",
    "        )\n",
    "        ax.tick_params(axis='both', labelsize=20)\n",
    "        ax.set_ylabel(\"Density\", fontsize=25)\n",
    "        ax.set_xlabel(\"Replicate correlation\", fontsize=25)\n",
    "        ax.spines[\"top\"].set_visible(False)\n",
    "        ax.spines[\"right\"].set_visible(False)\n",
    "    plt.tight_layout()\n",
    "\n",
    "    if save_fig:\n",
    "        if outfile is not None:\n",
    "            print(f\"Saving figure to: {outfile}\")\n",
    "            fig.savefig(f\"{outfile}\", bbox_inches = 'tight')\n",
    "        else:\n",
    "            print(\"Saving figure to: distribution-plot.png\")\n",
    "            fig.savefig(\"distribution-plot.png\", bbox_inches = \"tight\")\n",
    "    return fig\n",
    "\n",
    "distribution_plots(df_replicating.loc[df_replicating[\"sphering\"]==True], save_fig=True, outfile=\"figures/distribution-with-sphering.png\")\n",
    "distribution_plots(df_replicating.loc[df_replicating[\"sphering\"]==False], save_fig=True, outfile=\"figures/distribution-no-sphering.png\")\n"
   ]
  }
 ],
 "metadata": {
  "kernelspec": {
   "display_name": "Python 3.8.13 64-bit",
   "language": "python",
   "name": "python3"
  },
  "language_info": {
   "name": "python",
   "version": "3.8.13"
  },
  "orig_nbformat": 4,
  "vscode": {
   "interpreter": {
    "hash": "90bd059e05f79fb9b7cf5d2b1dae6ea26ca779772e058f49dd8fbe1978749df0"
   }
  }
 },
 "nbformat": 4,
 "nbformat_minor": 2
}
