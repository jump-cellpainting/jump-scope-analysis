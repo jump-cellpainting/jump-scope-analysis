{
 "cells": [
  {
   "cell_type": "code",
   "execution_count": null,
   "metadata": {},
   "outputs": [],
   "source": []
  },
  {
   "cell_type": "code",
   "execution_count": null,
   "metadata": {},
   "outputs": [],
   "source": [
    "def cell_count_plots(df, group, save_fig=False, outfile=None):\n",
    "    grouped_df = df.groupby(group)\n",
    "    n_experiments = len(grouped_df)\n",
    "    fig, ax_ = plt.subplots(n_experiments, 1, figsize=[12, n_experiments * 8], facecolor=\"white\")\n",
    "\n",
    "    for ax, (_, df_group) in zip(ax_.flatten(), grouped_df):\n",
    "        x = df_group.loc[:,\"cell_count\"]\n",
    "        y = df_group.loc[:,\"Percent_Replicating\"]\n",
    "        ax.scatter(x, y)\n",
    "        ax.plot(x, y)\n",
    "        for i, txt in enumerate(range(0, len(x))):\n",
    "            # Display as an int and handle NaN\n",
    "            sites = df_group.loc[:,\"Sites-SubSampled\"].values[i]\n",
    "            ax.annotate(sites, \n",
    "            (x.values[i], y.values[i]),\n",
    "            fontsize=25,\n",
    "            horizontalalignment='center',\n",
    "            verticalalignment='bottom'\n",
    "            )\n",
    "        ax.set_title(\n",
    "            f\"{df_group.loc[:,'Vendor'].unique()}\\n\" +\n",
    "            f\"Batch = {df_group.loc[:, 'Batch'].unique()}\\n\" +\n",
    "            f\"Plate = {df_group.loc[:, 'Assay_Plate_Barcode'].unique()}\\n\",\n",
    "            fontsize=10\n",
    "        )\n",
    "        ax.tick_params(axis='both', labelsize=20)\n",
    "        ax.set_ylabel(\"Percent Replicating\", fontsize=25)\n",
    "        ax.set_xlabel(\"Number of Cells\", fontsize=25)\n",
    "        ax.spines[\"top\"].set_visible(False)\n",
    "        ax.spines[\"right\"].set_visible(False)\n",
    "    # plt.tight_layout()\n",
    "\n",
    "    if save_fig:\n",
    "        if outfile is not None:\n",
    "            print(f\"Saving figure to: {outfile}\")\n",
    "            fig.savefig(f\"{outfile}\", bbox_inches = 'tight')\n",
    "        else:\n",
    "            print(\"Saving figure to: fov_count_plot.png\")\n",
    "            fig.savefig(\"fov_count_plot.png\", bbox_inches = \"tight\")\n",
    "    return fig\n",
    "\n",
    "df = df_replicating[(df_replicating[\"Assay_Plate_Barcode\"] == \"BRO01177034_20x\") & (df_replicating[\"sphering\"] == True)]\n",
    "cell_count_plots(df_replicating[df_replicating[\"sphering\"] == True], [\"Assay_Plate_Barcode\"], save_fig=False)\n",
    "# cell_count_plots(df_replicating.groupby([\"Batch\", \"Assay_Plate_Barcode\"]), save_fig=True, outfile=\"figures/fov_cell_count.png\")\n"
   ]
  }
 ],
 "metadata": {
  "kernelspec": {
   "display_name": "Python 3.8.13 64-bit",
   "language": "python",
   "name": "python3"
  },
  "language_info": {
   "name": "python",
   "version": "3.8.13"
  },
  "orig_nbformat": 4,
  "vscode": {
   "interpreter": {
    "hash": "90bd059e05f79fb9b7cf5d2b1dae6ea26ca779772e058f49dd8fbe1978749df0"
   }
  }
 },
 "nbformat": 4,
 "nbformat_minor": 2
}
