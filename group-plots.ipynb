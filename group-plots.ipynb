{
 "cells": [
  {
   "cell_type": "code",
   "execution_count": null,
   "metadata": {},
   "outputs": [],
   "source": []
  },
  {
   "cell_type": "code",
   "execution_count": null,
   "metadata": {},
   "outputs": [],
   "source": []
  },
  {
   "cell_type": "code",
   "execution_count": null,
   "metadata": {},
   "outputs": [],
   "source": [
    "def group_plot(df, x, y, group, error_x=None, error_y=None, fig=None, ax_=None):\n",
    "    cmap = plt.cm.tab10\n",
    "    colour_palette = list()\n",
    "    for i in range(cmap.N):\n",
    "        colour_palette.append(cmap(i))\n",
    "    \n",
    "    if fig is None and ax_ is None:\n",
    "        fig, ax = plt.subplots()\n",
    "    else:\n",
    "        ax = ax_\n",
    "    for i, (group_label, group_df) in enumerate(df.groupby(group)):\n",
    "        if error_x is not None or error_y is not None:\n",
    "            ax.errorbar(\n",
    "                group_df.loc[:, x], \n",
    "                group_df.loc[:, y],\n",
    "                xerr=group_df[error_x],\n",
    "                yerr=group_df[error_y],\n",
    "                ecolor=colour_palette[i],\n",
    "                fmt=\"none\",\n",
    "                marker=None,\n",
    "                zorder=1,\n",
    "                lw=1 # Required to get error bars centered. Classic matplotlib\n",
    "                )\n",
    "        ax.scatter(\n",
    "            group_df.loc[:, x], \n",
    "            group_df.loc[:, y],\n",
    "            color=colour_palette[i], \n",
    "            label=group_label,\n",
    "            zorder=2\n",
    "        )\n",
    "\n",
    "    ax.set_title(group, size=15)\n",
    "    ax.legend()\n",
    "    # ax.set_xscale(\"log\")\n",
    "    ax.set_xlabel(x, fontsize=15)\n",
    "    ax.set_ylabel(y, fontsize=15)\n",
    "    plt.tight_layout()\n",
    "    fig.set_facecolor(\"white\")\n",
    "    plt.subplots_adjust( \n",
    "                    wspace=0.2,\n",
    "                    hspace=0.2)"
   ]
  },
  {
   "cell_type": "code",
   "execution_count": null,
   "metadata": {},
   "outputs": [],
   "source": [
    "group_columns = [\"Vendor\", \"Modality\", \"sites\", \"Sites-SubSampled\", \n",
    "                \"Binning\", \"Magnification\", \"Number_of_channels\", \"z_plane\", \n",
    "                \"BF_Zplanes\"]\n",
    "subplots = np.arange(len(group_columns)).reshape(-1,3).shape\n",
    "\n",
    "fig, ax = plt.subplots(subplots[0], subplots[1], figsize=(17,17))\n",
    "for i, _ax in zip(group_columns, ax.flatten()):\n",
    "    group_plot(df_replicating[df_replicating[\"sphering\"] == True], \"cell_count\", \"Percent_Replicating\", group=i, fig=fig, ax_=_ax)\n",
    "fig.savefig(\"figures/rep_vs_cell-count_sphering_TRUE.png\")\n"
   ]
  },
  {
   "cell_type": "code",
   "execution_count": null,
   "metadata": {},
   "outputs": [],
   "source": [
    "group_columns = [\"Vendor\", \"Modality\", \"Images_per_well\", \"Sites-SubSampled\", \n",
    "                \"Binning\", \"Magnification\", \"Number_of_channels\", \"z_plane\", \n",
    "                \"BF_Zplanes\"]\n",
    "subplots = np.arange(len(group_columns)).reshape(-1,3).shape\n",
    "\n",
    "fig, ax = plt.subplots(subplots[0], subplots[1], figsize=(17,17))\n",
    "for i, _ax in zip(group_columns, ax.flatten()):\n",
    "    group_plot(df_replicating[df_replicating[\"sphering\"] == False], \"cell_count\", \"Percent_Replicating\", group=i, fig=fig, ax_=_ax)\n",
    "fig.savefig(\"figures/rep_vs_cell-count_sphering_FALSE.png\")\n"
   ]
  },
  {
   "cell_type": "code",
   "execution_count": null,
   "metadata": {},
   "outputs": [],
   "source": [
    "group_columns = [\"Vendor\", \"Modality\", \"spinning-disc\", \"Binning\", \n",
    "                \"Magnification\", \"aperture\", \"dry-immersion\",\n",
    "                \"Number_of_channels\", \"Images_per_well\",\n",
    "                \"z_plane\", \"BF_Zplanes\"]\n",
    "\n",
    "fig, ax = plt.subplots(4,3, figsize=(20,20))\n",
    "for i, _ax in zip(group_columns, ax.flatten()):\n",
    "    group_plot(match_rep_df[match_rep_df[\"sphering\"] == False], \"Percent_Matching\", \"Percent_Replicating\", group=i, fig=fig, ax_=_ax)\n",
    "fig.savefig(\"figures/rep_vs_match_groupings_sphering_FALSE.png\")\n"
   ]
  },
  {
   "cell_type": "code",
   "execution_count": null,
   "metadata": {},
   "outputs": [],
   "source": [
    "group_columns = [\"Vendor\", \"Modality\", \"spinning-disc\", \"Binning\", \n",
    "                \"Magnification\", \"aperture\", \"dry-immersion\",\n",
    "                \"Number_of_channels\", \"Images_per_well\",\n",
    "                \"z_plane\", \"BF_Zplanes\"]\n",
    "\n",
    "fig, ax = plt.subplots(4,3, figsize=(20,20))\n",
    "for i, _ax in zip(group_columns, ax.flatten()):\n",
    "    group_plot(match_rep_df[match_rep_df[\"sphering\"] == True], \"Percent_Matching\", \"Percent_Replicating\", group=i, fig=fig, ax_=_ax)\n",
    "fig.savefig(\"figures/rep_vs_match_groupings_sphering_TRUE.png\")"
   ]
  },
  {
   "cell_type": "markdown",
   "metadata": {},
   "source": [
    "# Creating mean and SD columns for grouped DF"
   ]
  },
  {
   "cell_type": "code",
   "execution_count": null,
   "metadata": {},
   "outputs": [],
   "source": [
    "def find_group_avg_df(_df, group):\n",
    "    df = _df.copy()\n",
    "    df['Mean_Percent_Replicating'] = list(df['Percent_Replicating'])\n",
    "    df['SD_Percent_Replicating'] = list(df['Percent_Replicating'])\n",
    "    df['Mean_Percent_Matching'] = list(df['Percent_Matching'])\n",
    "    df['SD_Percent_Matching'] = list(df['Percent_Matching'])\n",
    "    group_df = df.groupby(\n",
    "                            group,as_index=False).agg({\n",
    "                                'Percent_Replicating' : lambda x: list(x),\n",
    "                                'Mean_Percent_Replicating' : lambda y: np.mean(y),\n",
    "                                'SD_Percent_Replicating' : lambda z: float('%.3f'%np.std(z)),\n",
    "                                'Percent_Matching' : lambda x: list(x),\n",
    "                                'Mean_Percent_Matching' : lambda y: np.mean(y),\n",
    "                                'SD_Percent_Matching' : lambda z: float('%.3f'%np.std(z))\n",
    "                                })\n",
    "    return group_df"
   ]
  },
  {
   "cell_type": "code",
   "execution_count": null,
   "metadata": {},
   "outputs": [],
   "source": [
    "group_columns = [\"Vendor\", [\"Modality\", \"z_plane\"], \"Images_per_well\", \n",
    "                \"Binning\", \"Magnification\", \"Number_of_channels\", \"z_plane\", \n",
    "                \"BF_Zplanes\", \"aperture\", \"dry-immersion\", \"spinning-disc\", \n",
    "                \"simultaneous-excitation\", \"vs-brightfield\", \"sites\", None]\n",
    "# group_columns = [[\"Modality\", \"z_plane\"], \"Vendor\", \"Number_of_channels\"]\n",
    "\n",
    "subplots = np.arange(len(group_columns)).reshape(-1,3).shape\n",
    "fig, ax = plt.subplots(subplots[0], subplots[1], figsize=(20,30))\n",
    "for i, _ax in zip(group_columns, ax.flatten()):\n",
    "    try:\n",
    "        group_df = find_group_avg_df(match_rep_df.loc[match_rep_df[\"sphering\"]==True], i)\n",
    "        group_plot(\n",
    "            df=group_df, \n",
    "            x=\"Mean_Percent_Matching\", \n",
    "            y=\"Mean_Percent_Replicating\",\n",
    "            group=i,\n",
    "            error_x=\"SD_Percent_Replicating\",\n",
    "            error_y=\"SD_Percent_Matching\",\n",
    "            fig=fig, \n",
    "            ax_=_ax)\n",
    "    except:\n",
    "        fig.delaxes(_ax)\n",
    "fig.savefig(\"figures/mean-for-ALL-scope-groupings_sphering_TRUE.png\")"
   ]
  },
  {
   "cell_type": "code",
   "execution_count": null,
   "metadata": {},
   "outputs": [],
   "source": [
    "group_columns = [\"Vendor\", [\"Modality\", \"z_plane\"], \"Images_per_well\", \n",
    "                \"Binning\", \"Magnification\", \"Number_of_channels\", \"z_plane\", \n",
    "                \"BF_Zplanes\", \"aperture\", \"dry-immersion\", \"spinning-disc\", \n",
    "                \"simultaneous-excitation\", \"vs-brightfield\", \"sites\", None]\n",
    "# group_columns = [[\"Modality\", \"z_plane\"], \"Vendor\", \"Number_of_channels\"]\n",
    "\n",
    "subplots = np.arange(len(group_columns)).reshape(-1,3).shape\n",
    "fig, ax = plt.subplots(subplots[0], subplots[1], figsize=(20,30))\n",
    "for i, _ax in zip(group_columns, ax.flatten()):\n",
    "    try:\n",
    "        group_df = find_group_avg_df(match_rep_df.loc[match_rep_df[\"sphering\"]==False], i)\n",
    "        group_plot(\n",
    "            df=group_df, \n",
    "            x=\"Mean_Percent_Matching\", \n",
    "            y=\"Mean_Percent_Replicating\",\n",
    "            group=i,\n",
    "            error_x=\"SD_Percent_Replicating\",\n",
    "            error_y=\"SD_Percent_Matching\",\n",
    "            fig=fig, \n",
    "            ax_=_ax)\n",
    "    except:\n",
    "        fig.delaxes(_ax)\n",
    "fig.savefig(\"figures/mean-for-ALL-scope-groupings_sphering_FALSE.png\")"
   ]
  }
 ],
 "metadata": {
  "kernelspec": {
   "display_name": "Python 3.8.13 64-bit",
   "language": "python",
   "name": "python3"
  },
  "language_info": {
   "name": "python",
   "version": "3.8.13"
  },
  "orig_nbformat": 4,
  "vscode": {
   "interpreter": {
    "hash": "90bd059e05f79fb9b7cf5d2b1dae6ea26ca779772e058f49dd8fbe1978749df0"
   }
  }
 },
 "nbformat": 4,
 "nbformat_minor": 2
}
