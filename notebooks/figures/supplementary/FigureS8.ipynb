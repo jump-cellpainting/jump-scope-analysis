{
 "cells": [
  {
   "cell_type": "code",
   "execution_count": 4,
   "metadata": {},
   "outputs": [],
   "source": [
    "import sys\n",
    "sys.path.append(\"../../../\")\n",
    "import utilssphering\n",
    "import pandas as pd"
   ]
  },
  {
   "cell_type": "code",
   "execution_count": 48,
   "metadata": {},
   "outputs": [],
   "source": [
    "# For better display of numbers\n",
    "# pd.set_option('display.float_format', lambda x: '%.3f' % x)\n",
    "pd.options.display.precision = 3"
   ]
  },
  {
   "cell_type": "code",
   "execution_count": 46,
   "metadata": {},
   "outputs": [],
   "source": [
    "def top_bottom_features(df: pd.DataFrame, num: int = 10):\n",
    "    # Drop columns that we don't need\n",
    "    drop_cols = df.columns[df.columns.str.contains(\"kstest_statistic|_Location_|Children|Parent|Number_Object\")]\n",
    "\n",
    "    df = df.drop(columns=drop_cols)\n",
    "\n",
    "    # pvalues are determined between all combinations with replacement, so remove the \n",
    "    # identical comparisons\n",
    "    df = df[df[\"Assay_Plate_Barcode_plate1\"] != df[\"Assay_Plate_Barcode_plate2\"]]\n",
    "\n",
    "    compartments = [\"Nuclei\", \"Cytoplasm\", \"Cells\"]\n",
    "\n",
    "    result_df = pd.DataFrame()\n",
    "\n",
    "    for compart in compartments:\n",
    "        subset_cols = [col for col in df.columns if compart in col]\n",
    "        sub_df = df[subset_cols]\n",
    "        # print(sub_df.columns)\n",
    "\n",
    "        # Find the first 3 words of column names that will be used for grouping\n",
    "        group_words = [col.split(\"_\")[:3] for col in subset_cols]\n",
    "        # Join them back\n",
    "        group_words = [\"_\".join(w) for w in group_words]\n",
    "\n",
    "        # Find the mean for the feature groups\n",
    "        result_df = pd.concat([result_df, sub_df.groupby(group_words, axis=1).mean().mean(axis=0).reset_index()])\n",
    "\n",
    "    result_df = result_df.rename(columns={\"index\": \"Feature\", 0: \"pvalue\"})\n",
    "\n",
    "    return result_df.sort_values(by=\"pvalue\", ascending=False).reset_index(drop=True)[:num], result_df.sort_values(by=\"pvalue\").reset_index(drop=True)[:num]"
   ]
  },
  {
   "cell_type": "code",
   "execution_count": 56,
   "metadata": {},
   "outputs": [],
   "source": [
    "df = pd.read_csv(\"../../../data/MolDev_all_plate_comparison_exclude_different_mag_binning_comparison.csv\")\n",
    "top_features, bottom_features = top_bottom_features(df)\n",
    "t_b_feats = pd.concat([top_features, bottom_features], axis=1)\n",
    "\n",
    "t_b_feats.to_csv(\"S8A-moldev-top_bottom_features.csv\", index=False, float_format='%f')\n"
   ]
  },
  {
   "cell_type": "code",
   "execution_count": 53,
   "metadata": {},
   "outputs": [],
   "source": [
    "df = pd.read_csv(\"../../../data/Nikon_all_plate_comparison_exclude_different_mag_binning_comparison.csv\")\n",
    "top_features, bottom_features = top_bottom_features(df)\n",
    "t_b_feats = pd.concat([top_features, bottom_features], axis=1)\n",
    "\n",
    "t_b_feats.to_csv(\"S8B-nikon-top_bottom_features.csv\", index=False, float_format='%f')"
   ]
  },
  {
   "cell_type": "code",
   "execution_count": 54,
   "metadata": {},
   "outputs": [],
   "source": [
    "df = pd.read_csv(\"../../../data/PE_all_plate_comparison_exclude_different_mag_binning_comparison.csv\")\n",
    "top_features, bottom_features = top_bottom_features(df)\n",
    "t_b_feats = pd.concat([top_features, bottom_features], axis=1)\n",
    "\n",
    "t_b_feats.to_csv(\"S8C-pe-top_bottom_features.csv\", index=False, float_format='%f')"
   ]
  },
  {
   "cell_type": "code",
   "execution_count": 55,
   "metadata": {},
   "outputs": [],
   "source": [
    "df = pd.read_csv(\"../../../data/Yokogawa_US_all_plate_comparison_exclude_different_mag_binning_comparison.csv\")\n",
    "top_features, bottom_features = top_bottom_features(df)\n",
    "t_b_feats = pd.concat([top_features, bottom_features], axis=1)\n",
    "\n",
    "t_b_feats.to_csv(\"S8D-yokogawa_us-top_bottom_features.csv\", index=False, float_format='%f')"
   ]
  },
  {
   "cell_type": "code",
   "execution_count": null,
   "metadata": {},
   "outputs": [],
   "source": []
  }
 ],
 "metadata": {
  "kernelspec": {
   "display_name": "jump-scope",
   "language": "python",
   "name": "python3"
  },
  "language_info": {
   "codemirror_mode": {
    "name": "ipython",
    "version": 3
   },
   "file_extension": ".py",
   "mimetype": "text/x-python",
   "name": "python",
   "nbconvert_exporter": "python",
   "pygments_lexer": "ipython3",
   "version": "3.8.13"
  },
  "orig_nbformat": 4
 },
 "nbformat": 4,
 "nbformat_minor": 2
}
