{
 "cells": [
  {
   "cell_type": "code",
   "execution_count": null,
   "metadata": {},
   "outputs": [],
   "source": []
  },
  {
   "cell_type": "markdown",
   "metadata": {},
   "source": [
    "# Interesting features to look at \n",
    "- Number of cells analysed\n",
    "- Number of conditions\n",
    "- Number of features\n",
    "- Total area of nuclei, total area of cells (how big is it?)\n",
    "- Total number of conditions"
   ]
  },
  {
   "cell_type": "code",
   "execution_count": null,
   "metadata": {},
   "outputs": [],
   "source": []
  },
  {
   "cell_type": "code",
   "execution_count": null,
   "metadata": {},
   "outputs": [],
   "source": [
    "# Find number of features for each profile\n",
    "\n",
    "experiment_df = pd.read_csv(\"output/all-profile-metadata.csv\")\n",
    "\n",
    "def num_features(metadata_df, profile_parent_dir):\n",
    "    collection = {}\n",
    "    for ind, a_vendor in enumerate(metadata_df[\"Vendor\"].unique()):\n",
    "        print(f\"Processing {a_vendor}\")\n",
    "        vendor_data = metadata_df.loc[metadata_df[\"Vendor\"] == a_vendor]\n",
    "        for a_batch in vendor_data[\"Batch\"].unique():\n",
    "            batch_data = vendor_data.loc[vendor_data[\"Batch\"] == a_batch]\n",
    "            for a_plate in batch_data[\"Assay_Plate_Barcode\"].unique():\n",
    "                # plate_data = batch_data.loc[batch_data[\"Assay_Plate_Barcode\"] == a_plate]\n",
    "                data_path = os.path.join(profile_parent_dir, a_batch, a_plate, a_plate+\"_normalized_feature_select_negcon_batch.csv.gz\")\n",
    "                load_data = pd.read_csv(data_path)\n",
    "                cols = [i for i in load_data.columns if \"metadata\" not in i.casefold()]\n",
    "                collection.update({f\"{a_vendor}/{a_batch}/{a_plate}\":len(cols)})\n",
    "    return collection\n",
    "\n",
    "t = num_features(experiment_df, \"../jump-scope/profiles/\")"
   ]
  }
 ],
 "metadata": {
  "kernelspec": {
   "display_name": "Python 3.8.13 64-bit",
   "language": "python",
   "name": "python3"
  },
  "language_info": {
   "name": "python",
   "version": "3.8.13"
  },
  "orig_nbformat": 4,
  "vscode": {
   "interpreter": {
    "hash": "90bd059e05f79fb9b7cf5d2b1dae6ea26ca779772e058f49dd8fbe1978749df0"
   }
  }
 },
 "nbformat": 4,
 "nbformat_minor": 2
}
