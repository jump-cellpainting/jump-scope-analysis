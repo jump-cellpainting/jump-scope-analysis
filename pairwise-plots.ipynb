{
 "cells": [
  {
   "cell_type": "code",
   "execution_count": null,
   "metadata": {},
   "outputs": [],
   "source": []
  },
  {
   "cell_type": "code",
   "execution_count": null,
   "metadata": {},
   "outputs": [],
   "source": []
  },
  {
   "cell_type": "code",
   "execution_count": null,
   "metadata": {},
   "outputs": [],
   "source": [
    "# Pairwise plotting\n",
    "sns.set_theme(style=\"ticks\")\n",
    "\n",
    "sns.set(rc={'figure.facecolor':'white',})\n",
    "sns.pairplot(fov_df_replicating, hue=\"Vendor\")\n"
   ]
  },
  {
   "cell_type": "code",
   "execution_count": null,
   "metadata": {},
   "outputs": [],
   "source": [
    "\n",
    "match_rep_df_sphere = match_rep_df.loc[match_rep_df[\"sphering\"] == True].drop(\"sphering\", axis=1)\n",
    "# match_rep_df_sphere\n",
    "\n",
    "sns.set_theme(style=\"ticks\")\n",
    "sns.set(rc={'figure.facecolor':'white',})\n",
    "sns.pairplot(match_rep_df_sphere, hue=\"Vendor\")"
   ]
  }
 ],
 "metadata": {
  "kernelspec": {
   "display_name": "Python 3.8.13 64-bit",
   "language": "python",
   "name": "python3"
  },
  "language_info": {
   "name": "python",
   "version": "3.8.13"
  },
  "orig_nbformat": 4,
  "vscode": {
   "interpreter": {
    "hash": "90bd059e05f79fb9b7cf5d2b1dae6ea26ca779772e058f49dd8fbe1978749df0"
   }
  }
 },
 "nbformat": 4,
 "nbformat_minor": 2
}
