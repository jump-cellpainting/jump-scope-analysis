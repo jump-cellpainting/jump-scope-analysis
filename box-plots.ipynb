{
 "cells": [
  {
   "cell_type": "code",
   "execution_count": null,
   "metadata": {},
   "outputs": [],
   "source": []
  },
  {
   "cell_type": "code",
   "execution_count": null,
   "metadata": {},
   "outputs": [],
   "source": [
    "# Load data\n",
    "\n"
   ]
  },
  {
   "cell_type": "markdown",
   "metadata": {},
   "source": [
    "# Assessing profiles\n",
    "\n",
    "Do some profiles have more of an influence over others? How can you find the outliers? https://biocellgen-public.svi.edu.au/mig_2019_scrnaseq-workshop/quality-control-and-data-visualisation.html \n",
    "\n",
    "Ideas:\n",
    "- Box plots, label >95th outliers\n",
    "- Histogram of total cell counts\n",
    "- Histogram of number of input features after feature selection\n",
    "- Some sort of ratio between features:perc replicating?"
   ]
  },
  {
   "cell_type": "code",
   "execution_count": null,
   "metadata": {},
   "outputs": [],
   "source": [
    "# Boxplot and print outliers\n",
    "\n",
    "class BoxPlot:\n",
    "    def __init__(self, df, x, ax):\n",
    "        self.df = df\n",
    "        self.x = x\n",
    "        self.ax = ax\n",
    "\n",
    "    def make_labels(self, boxplot):\n",
    "        \"\"\"\n",
    "        Modified from: https://stackoverflow.com/questions/55648729/python-how-to-print-the-box-whiskers-and-outlier-values-in-box-and-whisker-plo\n",
    "        \"\"\"\n",
    "\n",
    "        # Grab the relevant Line2D instances from the boxplot dictionary\n",
    "        iqr = boxplot['boxes'][0]\n",
    "        caps = boxplot['caps']\n",
    "        med = boxplot['medians'][0]\n",
    "        fly = boxplot['fliers'][0]\n",
    "\n",
    "        # The x position of the median line\n",
    "        xpos = med.get_xdata()\n",
    "\n",
    "        # Lets make the text have a horizontal offset which is some \n",
    "        # fraction of the width of the box\n",
    "        xoff = 0.10 * (xpos[1] - xpos[0])\n",
    "\n",
    "        # Many fliers, so we loop over them and create a label for each one\n",
    "        for i, flier in enumerate(fly.get_ydata()):\n",
    "            right_or_left = i % 2\n",
    "            offset = -abs(1+xoff) if right_or_left else 1+xoff\n",
    "            self.ax.text(1 + xoff, flier,\n",
    "                    '{}'.format(self.df[self.df[self.x] == flier][\"Batch\"].values[0]), va='center')\n",
    "            # self.ax.text(offset, flier,\n",
    "            #         '{}'.format(self.df[self.df[self.x] == flier][\"Batch\"].values[0]), va='center')\n",
    "\n",
    "    def boxplot_outliers(self, title):\n",
    "        boxplot = self.ax.boxplot(\n",
    "            self.df[self.x]\n",
    "        )\n",
    "        self.ax.set_ylabel(self.x)\n",
    "        self.ax.set_title(title)\n",
    "        self.make_labels(boxplot)\n",
    "        fig.set_facecolor(\"white\")\n",
    "\n",
    "df_list = {\"Sphering: True\": match_rep_df[match_rep_df[\"sphering\"]==True],\n",
    "           \"Sphering: False\": match_rep_df[match_rep_df[\"sphering\"]==False],\n",
    "           \"Sitesubset data only, sphering true\": match_rep_df[(match_rep_df[\"Batch\"].str.contains(\"siteSub\")) & (match_rep_df[\"sphering\"] == True)],\n",
    "           \"Excluding siteSubset, sphering true\": match_rep_df[(~match_rep_df[\"Batch\"].str.contains(\"siteSub\")) & (match_rep_df[\"sphering\"] == True)],\n",
    "           \"Sitesubset data only, sphering true\": match_rep_df[(match_rep_df[\"Batch\"].str.contains(\"siteSub\")) & (match_rep_df[\"sphering\"] == False)],\n",
    "           \"Excluding siteSubset, sphering true\": match_rep_df[(~match_rep_df[\"Batch\"].str.contains(\"siteSub\")) & (match_rep_df[\"sphering\"] == False)]\n",
    "}\n",
    "\n",
    "fig, ax_ = plt.subplots(len(df_list), figsize=(10, len(df_list) * 10))\n",
    "\n",
    "for ax, (title, df) in zip(ax_.flatten(), df_list.items()):\n",
    "    BoxPlot(df, \"Percent_Replicating\", ax).boxplot_outliers(title)\n",
    "\n",
    "fig.savefig(\"figures/boxplot-for-subsets.png\", bbox_inches=\"tight\")\n"
   ]
  }
 ],
 "metadata": {
  "kernelspec": {
   "display_name": "Python 3.8.13 64-bit",
   "language": "python",
   "name": "python3"
  },
  "language_info": {
   "name": "python",
   "version": "3.8.13"
  },
  "orig_nbformat": 4,
  "vscode": {
   "interpreter": {
    "hash": "90bd059e05f79fb9b7cf5d2b1dae6ea26ca779772e058f49dd8fbe1978749df0"
   }
  }
 },
 "nbformat": 4,
 "nbformat_minor": 2
}
